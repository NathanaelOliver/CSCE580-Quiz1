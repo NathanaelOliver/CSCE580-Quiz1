{
 "cells": [
  {
   "cell_type": "code",
   "execution_count": 4,
   "metadata": {},
   "outputs": [
    {
     "name": "stdout",
     "output_type": "stream",
     "text": [
      "[10, 20, 30, 40]\n",
      "depth first takes 0.001012\n"
     ]
    }
   ],
   "source": [
    "from time import time\n",
    "\n",
    "def solved(arr):\n",
    "    for i in range(0,len(arr)-1):\n",
    "        if arr[i] > arr[i+1]:\n",
    "            return False\n",
    "    return True\n",
    "\n",
    "def swap_a(arr):\n",
    "    arr[0], arr[1] = arr[1], arr[0]\n",
    "    return arr\n",
    "\n",
    "def swap_b(arr):\n",
    "    arr[1], arr[2] = arr[2], arr[1]\n",
    "    return arr\n",
    "\n",
    "def swap_c(arr):\n",
    "    arr[2], arr[3] = arr[3], arr[2]\n",
    "    return arr\n",
    "\n",
    "def sort_depth(arr, depth=1):\n",
    "    if solved(arr):\n",
    "        return arr\n",
    "    if depth <= 6:\n",
    "        swap_a(arr)\n",
    "        sort_depth(arr, depth+1)\n",
    "        if solved(arr):\n",
    "            return arr\n",
    "        swap_a(arr)\n",
    "        swap_b(arr)\n",
    "        sort_depth(arr, depth+1)\n",
    "        if solved(arr):\n",
    "            return arr\n",
    "        swap_b(arr)\n",
    "        swap_c(arr)\n",
    "        sort_depth(arr, depth+1)\n",
    "        if solved(arr):\n",
    "            return arr\n",
    "        swap_c(arr)\n",
    "\n",
    "\n",
    "t0 = time()\n",
    "print(sort_depth([10,20,40,30]))\n",
    "t1 = time()\n",
    "\n",
    "print ('depth first takes %f' %(t1-t0))\n"
   ]
  },
  {
   "cell_type": "code",
   "execution_count": 5,
   "metadata": {},
   "outputs": [
    {
     "name": "stdout",
     "output_type": "stream",
     "text": [
      "[10, 20, 30, 40]\n",
      "breadth first takes 0.000301\n"
     ]
    }
   ],
   "source": [
    "def solved(arr):\n",
    "    for i in range(0,len(arr)-1):\n",
    "        if arr[i] > arr[i+1]:\n",
    "            return False\n",
    "    return True\n",
    "\n",
    "def swap_a(arr):\n",
    "    arr[0], arr[1] = arr[1], arr[0]\n",
    "    return arr\n",
    "\n",
    "def swap_b(arr):\n",
    "    arr[1], arr[2] = arr[2], arr[1]\n",
    "    return arr\n",
    "\n",
    "def swap_c(arr):\n",
    "    arr[2], arr[3] = arr[3], arr[2]\n",
    "    return arr\n",
    "\n",
    "def sort_breadth(arr, depth=1):\n",
    "    if depth ==1:\n",
    "        if solved(arr):\n",
    "            return arr\n",
    "    swap_a(arr)\n",
    "    sort_breadth(arr, depth - 1)\n",
    "    if solved(arr):\n",
    "        return arr\n",
    "    swap_a(arr)\n",
    "    swap_b(arr)\n",
    "    sort_breadth(arr, depth - 1)\n",
    "    if solved(arr):\n",
    "        return arr\n",
    "    swap_b(arr)\n",
    "    swap_c(arr)\n",
    "    sort_breadth(arr, depth - 1)\n",
    "    if solved(arr):\n",
    "        return arr\n",
    "    swap_c(arr)\n",
    "\n",
    "t0 = time()\n",
    "print(sort_depth([10,20,40,30]))\n",
    "t1 = time()\n",
    "\n",
    "print ('breadth first takes %f' %(t1-t0))"
   ]
  },
  {
   "cell_type": "code",
   "execution_count": 10,
   "metadata": {},
   "outputs": [
    {
     "name": "stdout",
     "output_type": "stream",
     "text": [
      "[10, 20, 30, 40]\n",
      "quick sort takes 0.001001\n"
     ]
    }
   ],
   "source": [
    "from sorting_techniques import pysort\n",
    "sortObj = pysort.Sorting()\n",
    "\n",
    "myList = [10,20,40,30]\n",
    "\n",
    "sortResult = sortObj.insertionSort(myList)\n",
    "\n",
    "# The SortResult contains the Sorted List\n",
    "t0 = time()\n",
    "print(sortResult)\n",
    "t1 = time()\n",
    "\n",
    "print ('quick sort takes %f' %(t1-t0))"
   ]
  }
 ],
 "metadata": {
  "kernelspec": {
   "display_name": "Python 3",
   "language": "python",
   "name": "python3"
  },
  "language_info": {
   "codemirror_mode": {
    "name": "ipython",
    "version": 3
   },
   "file_extension": ".py",
   "mimetype": "text/x-python",
   "name": "python",
   "nbconvert_exporter": "python",
   "pygments_lexer": "ipython3",
   "version": "3.9.2"
  },
  "orig_nbformat": 4
 },
 "nbformat": 4,
 "nbformat_minor": 2
}
